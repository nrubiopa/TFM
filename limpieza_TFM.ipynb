{
  "cells": [
    {
      "cell_type": "code",
      "execution_count": 22,
      "metadata": {
        "id": "LUO7cG76ngIz"
      },
      "outputs": [],
      "source": [
        "import requests\n",
        "import json\n",
        "import math\n",
        "import pandas as pd\n",
        "import numpy as np\n",
        "import datetime\n"
      ]
    },
    {
      "cell_type": "code",
      "source": [
        "file_path = './clinicaltrials_dataframe.csv'\n",
        "df_original = pd.read_csv(file_path)"
      ],
      "metadata": {
        "id": "BcokYSDtJrao",
        "colab": {
          "base_uri": "https://localhost:8080/"
        },
        "outputId": "5201cbb6-bf3a-4b36-9a15-1138342ccfb4"
      },
      "execution_count": 23,
      "outputs": [
        {
          "output_type": "stream",
          "name": "stderr",
          "text": [
            "<ipython-input-23-f0db41ed596b>:2: DtypeWarning: Columns (9,10,19,28,38,42,97,98,99,106,121,173,208,209,216,230,250,251,252,253,264) have mixed types. Specify dtype option on import or set low_memory=False.\n",
            "  df_original = pd.read_csv(file_path)\n"
          ]
        }
      ]
    },
    {
      "cell_type": "code",
      "source": [
        "print(df_original.columns.values)"
      ],
      "metadata": {
        "colab": {
          "base_uri": "https://localhost:8080/"
        },
        "id": "gVT7TCyghtiW",
        "outputId": "328b5233-4239-443c-c14e-2cf3f21686a1"
      },
      "execution_count": 24,
      "outputs": [
        {
          "output_type": "stream",
          "name": "stdout",
          "text": [
            "['Acronym' 'AgreementOtherDetails' 'AgreementPISponsorEmployee'\n",
            " 'AgreementRestrictionType' 'AgreementRestrictiveAgreement'\n",
            " 'ArmGroupDescription' 'ArmGroupInterventionName' 'ArmGroupLabel'\n",
            " 'ArmGroupType' 'AvailIPDComment' 'AvailIPDId' 'AvailIPDType'\n",
            " 'AvailIPDURL' 'BaselineCategoryTitle' 'BaselineClassDenomCountGroupId'\n",
            " 'BaselineClassDenomCountValue' 'BaselineClassDenomUnits'\n",
            " 'BaselineClassTitle' 'BaselineDenomCountGroupId'\n",
            " 'BaselineDenomCountValue' 'BaselineDenomUnits' 'BaselineGroupDescription'\n",
            " 'BaselineGroupId' 'BaselineGroupTitle' 'BaselineMeasureCalculatePct'\n",
            " 'BaselineMeasureDenomCountGroupId' 'BaselineMeasureDenomCountValue'\n",
            " 'BaselineMeasureDenomUnits' 'BaselineMeasureDenomUnitsSelected'\n",
            " 'BaselineMeasureDescription' 'BaselineMeasureDispersionType'\n",
            " 'BaselineMeasureParamType' 'BaselineMeasurePopulationDescription'\n",
            " 'BaselineMeasureTitle' 'BaselineMeasureUnitOfMeasure'\n",
            " 'BaselineMeasurementComment' 'BaselineMeasurementGroupId'\n",
            " 'BaselineMeasurementLowerLimit' 'BaselineMeasurementSpread'\n",
            " 'BaselineMeasurementUpperLimit' 'BaselineMeasurementValue'\n",
            " 'BaselinePopulationDescription' 'BaselineTypeUnitsAnalyzed'\n",
            " 'BioSpecDescription' 'BioSpecRetention' 'BriefSummary' 'BriefTitle'\n",
            " 'CentralContactEMail' 'CentralContactName' 'CentralContactPhone'\n",
            " 'CentralContactPhoneExt' 'CentralContactRole' 'CollaboratorClass'\n",
            " 'CollaboratorName' 'CompletionDate' 'CompletionDateType' 'Condition'\n",
            " 'ConditionAncestorId' 'ConditionAncestorTerm'\n",
            " 'ConditionBrowseBranchAbbrev' 'ConditionBrowseBranchName'\n",
            " 'ConditionBrowseLeafAsFound' 'ConditionBrowseLeafId'\n",
            " 'ConditionBrowseLeafName' 'ConditionBrowseLeafRelevance'\n",
            " 'ConditionMeshId' 'ConditionMeshTerm' 'DelayedPosting' 'DesignAllocation'\n",
            " 'DesignInterventionModel' 'DesignInterventionModelDescription'\n",
            " 'DesignMasking' 'DesignMaskingDescription' 'DesignObservationalModel'\n",
            " 'DesignPrimaryPurpose' 'DesignTimePerspective' 'DesignWhoMasked'\n",
            " 'DetailedDescription' 'DispFirstPostDate' 'DispFirstPostDateType'\n",
            " 'DispFirstSubmitDate' 'DispFirstSubmitQCDate' 'EligibilityCriteria'\n",
            " 'EnrollmentCount' 'EnrollmentType' 'EventGroupDeathsNumAffected'\n",
            " 'EventGroupDeathsNumAtRisk' 'EventGroupDescription' 'EventGroupId'\n",
            " 'EventGroupOtherNumAffected' 'EventGroupOtherNumAtRisk'\n",
            " 'EventGroupSeriousNumAffected' 'EventGroupSeriousNumAtRisk'\n",
            " 'EventGroupTitle' 'EventsDescription' 'EventsFrequencyThreshold'\n",
            " 'EventsTimeFrame' 'ExpAccTypeIndividual' 'ExpAccTypeIntermediate'\n",
            " 'ExpAccTypeTreatment' 'ExpandedAccessNCTId'\n",
            " 'ExpandedAccessStatusForNCTId' 'FDAAA801Violation'\n",
            " 'FlowAchievementComment' 'FlowAchievementGroupId'\n",
            " 'FlowAchievementNumSubjects' 'FlowAchievementNumUnits'\n",
            " 'FlowDropWithdrawComment' 'FlowDropWithdrawType' 'FlowGroupDescription'\n",
            " 'FlowGroupId' 'FlowGroupTitle' 'FlowMilestoneComment' 'FlowMilestoneType'\n",
            " 'FlowPeriodTitle' 'FlowPreAssignmentDetails' 'FlowReasonComment'\n",
            " 'FlowReasonGroupId' 'FlowReasonNumSubjects' 'FlowReasonNumUnits'\n",
            " 'FlowRecruitmentDetails' 'FlowTypeUnitsAnalyzed' 'Gender' 'GenderBased'\n",
            " 'GenderDescription' 'HasExpandedAccess' 'HealthyVolunteers' 'IPDSharing'\n",
            " 'IPDSharingAccessCriteria' 'IPDSharingDescription' 'IPDSharingInfoType'\n",
            " 'IPDSharingTimeFrame' 'IPDSharingURL' 'InterventionAncestorId'\n",
            " 'InterventionAncestorTerm' 'InterventionArmGroupLabel'\n",
            " 'InterventionBrowseBranchAbbrev' 'InterventionBrowseBranchName'\n",
            " 'InterventionBrowseLeafAsFound' 'InterventionBrowseLeafId'\n",
            " 'InterventionBrowseLeafName' 'InterventionBrowseLeafRelevance'\n",
            " 'InterventionDescription' 'InterventionMeshId' 'InterventionMeshTerm'\n",
            " 'InterventionName' 'InterventionOtherName' 'InterventionType'\n",
            " 'IsFDARegulatedDevice' 'IsFDARegulatedDrug' 'IsPPSD' 'IsUSExport'\n",
            " 'IsUnapprovedDevice' 'Keyword' 'LargeDocDate' 'LargeDocFilename'\n",
            " 'LargeDocHasICF' 'LargeDocHasProtocol' 'LargeDocHasSAP' 'LargeDocLabel'\n",
            " 'LargeDocTypeAbbrev' 'LargeDocUploadDate' 'LastKnownStatus'\n",
            " 'LastUpdatePostDate' 'LastUpdatePostDateType' 'LastUpdateSubmitDate'\n",
            " 'LeadSponsorClass' 'LeadSponsorName' 'LimitationsAndCaveatsDescription'\n",
            " 'LocationCity' 'LocationContactEMail' 'LocationContactName'\n",
            " 'LocationContactPhone' 'LocationContactPhoneExt' 'LocationContactRole'\n",
            " 'LocationCountry' 'LocationFacility' 'LocationState' 'LocationStatus'\n",
            " 'LocationZip' 'MaximumAge' 'MinimumAge' 'NCTId' 'NCTIdAlias'\n",
            " 'OfficialTitle' 'OrgClass' 'OrgFullName' 'OrgStudyId' 'OrgStudyIdDomain'\n",
            " 'OrgStudyIdLink' 'OrgStudyIdType' 'OtherEventAssessmentType'\n",
            " 'OtherEventNotes' 'OtherEventOrganSystem' 'OtherEventSourceVocabulary'\n",
            " 'OtherEventStatsGroupId' 'OtherEventStatsNumAffected'\n",
            " 'OtherEventStatsNumAtRisk' 'OtherEventStatsNumEvents' 'OtherEventTerm'\n",
            " 'OtherOutcomeDescription' 'OtherOutcomeMeasure' 'OtherOutcomeTimeFrame'\n",
            " 'OutcomeAnalysisCILowerLimit' 'OutcomeAnalysisCILowerLimitComment'\n",
            " 'OutcomeAnalysisCINumSides' 'OutcomeAnalysisCIPctValue'\n",
            " 'OutcomeAnalysisCIUpperLimit' 'OutcomeAnalysisCIUpperLimitComment'\n",
            " 'OutcomeAnalysisDispersionType' 'OutcomeAnalysisDispersionValue'\n",
            " 'OutcomeAnalysisEstimateComment' 'OutcomeAnalysisGroupDescription'\n",
            " 'OutcomeAnalysisGroupId' 'OutcomeAnalysisNonInferiorityComment'\n",
            " 'OutcomeAnalysisNonInferiorityType'\n",
            " 'OutcomeAnalysisOtherAnalysisDescription' 'OutcomeAnalysisPValue'\n",
            " 'OutcomeAnalysisPValueComment' 'OutcomeAnalysisParamType'\n",
            " 'OutcomeAnalysisParamValue' 'OutcomeAnalysisStatisticalComment'\n",
            " 'OutcomeAnalysisStatisticalMethod' 'OutcomeAnalysisTestedNonInferiority'\n",
            " 'OutcomeCategoryTitle' 'OutcomeClassDenomCountGroupId'\n",
            " 'OutcomeClassDenomCountValue' 'OutcomeClassDenomUnits'\n",
            " 'OutcomeClassTitle' 'OutcomeDenomCountGroupId' 'OutcomeDenomCountValue'\n",
            " 'OutcomeDenomUnits' 'OutcomeGroupDescription' 'OutcomeGroupId'\n",
            " 'OutcomeGroupTitle' 'OutcomeMeasureAnticipatedPostingDate'\n",
            " 'OutcomeMeasureCalculatePct' 'OutcomeMeasureDenomUnitsSelected'\n",
            " 'OutcomeMeasureDescription' 'OutcomeMeasureDispersionType'\n",
            " 'OutcomeMeasureParamType' 'OutcomeMeasurePopulationDescription'\n",
            " 'OutcomeMeasureReportingStatus' 'OutcomeMeasureTimeFrame'\n",
            " 'OutcomeMeasureTitle' 'OutcomeMeasureType'\n",
            " 'OutcomeMeasureTypeUnitsAnalyzed' 'OutcomeMeasureUnitOfMeasure'\n",
            " 'OutcomeMeasurementComment' 'OutcomeMeasurementGroupId'\n",
            " 'OutcomeMeasurementLowerLimit' 'OutcomeMeasurementSpread'\n",
            " 'OutcomeMeasurementUpperLimit' 'OutcomeMeasurementValue'\n",
            " 'OverallOfficialAffiliation' 'OverallOfficialName' 'OverallOfficialRole'\n",
            " 'OverallStatus' 'OversightHasDMC' 'PatientRegistry' 'Phase'\n",
            " 'PointOfContactEMail' 'PointOfContactOrganization' 'PointOfContactPhone'\n",
            " 'PointOfContactPhoneExt' 'PointOfContactTitle' 'PrimaryCompletionDate'\n",
            " 'PrimaryCompletionDateType' 'PrimaryOutcomeDescription'\n",
            " 'PrimaryOutcomeMeasure' 'PrimaryOutcomeTimeFrame' 'ReferenceCitation'\n",
            " 'ReferencePMID' 'ReferenceType' 'RemovedCountry'\n",
            " 'ResponsiblePartyInvestigatorAffiliation'\n",
            " 'ResponsiblePartyInvestigatorFullName'\n",
            " 'ResponsiblePartyInvestigatorTitle' 'ResponsiblePartyOldNameTitle'\n",
            " 'ResponsiblePartyOldOrganization' 'ResponsiblePartyType'\n",
            " 'ResultsFirstPostDate' 'ResultsFirstPostDateType'\n",
            " 'ResultsFirstPostedQCCommentsDate' 'ResultsFirstPostedQCCommentsDateType'\n",
            " 'ResultsFirstSubmitDate' 'ResultsFirstSubmitQCDate' 'RetractionPMID'\n",
            " 'RetractionSource' 'SamplingMethod' 'SecondaryId' 'SecondaryIdDomain'\n",
            " 'SecondaryIdLink' 'SecondaryIdType' 'SecondaryOutcomeDescription'\n",
            " 'SecondaryOutcomeMeasure' 'SecondaryOutcomeTimeFrame' 'SeeAlsoLinkLabel'\n",
            " 'SeeAlsoLinkURL' 'SeriousEventAssessmentType' 'SeriousEventNotes'\n",
            " 'SeriousEventOrganSystem' 'SeriousEventSourceVocabulary'\n",
            " 'SeriousEventStatsGroupId' 'SeriousEventStatsNumAffected'\n",
            " 'SeriousEventStatsNumAtRisk' 'SeriousEventStatsNumEvents'\n",
            " 'SeriousEventTerm' 'StartDate' 'StartDateType' 'StatusVerifiedDate'\n",
            " 'StdAge' 'StudyFirstPostDate' 'StudyFirstPostDateType'\n",
            " 'StudyFirstSubmitDate' 'StudyFirstSubmitQCDate' 'StudyPopulation'\n",
            " 'StudyType' 'SubmissionMCPReleaseN' 'SubmissionReleaseDate'\n",
            " 'SubmissionResetDate' 'SubmissionUnreleaseDate' 'TargetDuration'\n",
            " 'UnpostedEventDate' 'UnpostedEventType' 'UnpostedResponsibleParty'\n",
            " 'VersionHolder' 'WhyStopped']\n"
          ]
        }
      ]
    },
    {
      "cell_type": "code",
      "source": [
        "df_original.info()  # Obtener información sobre tipos de datos y valores faltantes"
      ],
      "metadata": {
        "colab": {
          "base_uri": "https://localhost:8080/"
        },
        "id": "l3anZfRZLYiP",
        "outputId": "f407c4c0-72d1-4a01-d42a-9f4fdd3a532d"
      },
      "execution_count": 25,
      "outputs": [
        {
          "output_type": "stream",
          "name": "stdout",
          "text": [
            "<class 'pandas.core.frame.DataFrame'>\n",
            "RangeIndex: 13501 entries, 0 to 13500\n",
            "Columns: 328 entries, Acronym to WhyStopped\n",
            "dtypes: float64(41), object(287)\n",
            "memory usage: 33.8+ MB\n"
          ]
        }
      ]
    },
    {
      "cell_type": "code",
      "source": [
        "# Eliminar columnas donde más del 50% de los valores sean NaN\n",
        "df_cleaned = df_original.dropna(axis=1, thresh=len(df_original) * 0.5)\n",
        "\n",
        "# Mostrar las informacion de las columnas resultantes\n",
        "print(df_cleaned.info())\n"
      ],
      "metadata": {
        "colab": {
          "base_uri": "https://localhost:8080/"
        },
        "id": "HJ6Xywz4Lh0B",
        "outputId": "69d98e5e-9a3e-4b3a-f4ba-0bd588483225"
      },
      "execution_count": 26,
      "outputs": [
        {
          "output_type": "stream",
          "name": "stdout",
          "text": [
            "<class 'pandas.core.frame.DataFrame'>\n",
            "RangeIndex: 13501 entries, 0 to 13500\n",
            "Data columns (total 82 columns):\n",
            " #   Column                           Non-Null Count  Dtype  \n",
            "---  ------                           --------------  -----  \n",
            " 0   ArmGroupDescription              10426 non-null  object \n",
            " 1   ArmGroupInterventionName         11067 non-null  object \n",
            " 2   ArmGroupLabel                    11662 non-null  object \n",
            " 3   ArmGroupType                     9759 non-null   object \n",
            " 4   BriefSummary                     13501 non-null  object \n",
            " 5   BriefTitle                       13501 non-null  object \n",
            " 6   CompletionDate                   12888 non-null  object \n",
            " 7   CompletionDateType               12764 non-null  object \n",
            " 8   Condition                        13500 non-null  object \n",
            " 9   ConditionAncestorId              12202 non-null  object \n",
            " 10  ConditionAncestorTerm            12202 non-null  object \n",
            " 11  ConditionBrowseBranchAbbrev      13253 non-null  object \n",
            " 12  ConditionBrowseBranchName        13253 non-null  object \n",
            " 13  ConditionBrowseLeafAsFound       12356 non-null  object \n",
            " 14  ConditionBrowseLeafId            13253 non-null  object \n",
            " 15  ConditionBrowseLeafName          13253 non-null  object \n",
            " 16  ConditionBrowseLeafRelevance     13253 non-null  object \n",
            " 17  ConditionMeshId                  12402 non-null  object \n",
            " 18  ConditionMeshTerm                12402 non-null  object \n",
            " 19  DesignInterventionModel          10188 non-null  object \n",
            " 20  DesignMasking                    10303 non-null  object \n",
            " 21  DesignPrimaryPurpose             10491 non-null  object \n",
            " 22  DetailedDescription              9398 non-null   object \n",
            " 23  EligibilityCriteria              13500 non-null  object \n",
            " 24  EnrollmentCount                  13279 non-null  float64\n",
            " 25  EnrollmentType                   13107 non-null  object \n",
            " 26  Gender                           13490 non-null  object \n",
            " 27  HasExpandedAccess                13289 non-null  object \n",
            " 28  HealthyVolunteers                13303 non-null  object \n",
            " 29  InterventionArmGroupLabel        11068 non-null  object \n",
            " 30  InterventionBrowseBranchAbbrev   7920 non-null   object \n",
            " 31  InterventionBrowseBranchName     7920 non-null   object \n",
            " 32  InterventionBrowseLeafId         7920 non-null   object \n",
            " 33  InterventionBrowseLeafName       7920 non-null   object \n",
            " 34  InterventionBrowseLeafRelevance  7920 non-null   object \n",
            " 35  InterventionDescription          10801 non-null  object \n",
            " 36  InterventionName                 12344 non-null  object \n",
            " 37  InterventionType                 12345 non-null  object \n",
            " 38  IsFDARegulatedDevice             6911 non-null   object \n",
            " 39  IsFDARegulatedDrug               6911 non-null   object \n",
            " 40  Keyword                          8878 non-null   object \n",
            " 41  LastUpdatePostDate               13501 non-null  object \n",
            " 42  LastUpdatePostDateType           13501 non-null  object \n",
            " 43  LastUpdateSubmitDate             13501 non-null  object \n",
            " 44  LeadSponsorClass                 13501 non-null  object \n",
            " 45  LeadSponsorName                  13501 non-null  object \n",
            " 46  LocationCity                     12369 non-null  object \n",
            " 47  LocationCountry                  12369 non-null  object \n",
            " 48  LocationFacility                 12195 non-null  object \n",
            " 49  LocationState                    9099 non-null   object \n",
            " 50  LocationZip                      11076 non-null  object \n",
            " 51  MinimumAge                       12719 non-null  object \n",
            " 52  NCTId                            13501 non-null  object \n",
            " 53  OfficialTitle                    13347 non-null  object \n",
            " 54  OrgClass                         13501 non-null  object \n",
            " 55  OrgFullName                      13501 non-null  object \n",
            " 56  OrgStudyId                       13501 non-null  object \n",
            " 57  OverallOfficialAffiliation       11082 non-null  object \n",
            " 58  OverallOfficialName              11105 non-null  object \n",
            " 59  OverallOfficialRole              11093 non-null  object \n",
            " 60  OverallStatus                    13501 non-null  object \n",
            " 61  OversightHasDMC                  10652 non-null  object \n",
            " 62  Phase                            10591 non-null  object \n",
            " 63  PrimaryCompletionDate            12942 non-null  object \n",
            " 64  PrimaryCompletionDateType        12940 non-null  object \n",
            " 65  PrimaryOutcomeDescription        9942 non-null   object \n",
            " 66  PrimaryOutcomeMeasure            12938 non-null  object \n",
            " 67  PrimaryOutcomeTimeFrame          12512 non-null  object \n",
            " 68  ResponsiblePartyType             12404 non-null  object \n",
            " 69  SecondaryOutcomeDescription      7999 non-null   object \n",
            " 70  SecondaryOutcomeMeasure          10147 non-null  object \n",
            " 71  SecondaryOutcomeTimeFrame        9810 non-null   object \n",
            " 72  StartDate                        13422 non-null  object \n",
            " 73  StartDateType                    8302 non-null   object \n",
            " 74  StatusVerifiedDate               13501 non-null  object \n",
            " 75  StdAge                           13501 non-null  object \n",
            " 76  StudyFirstPostDate               13501 non-null  object \n",
            " 77  StudyFirstPostDateType           13501 non-null  object \n",
            " 78  StudyFirstSubmitDate             13501 non-null  object \n",
            " 79  StudyFirstSubmitQCDate           13501 non-null  object \n",
            " 80  StudyType                        13501 non-null  object \n",
            " 81  VersionHolder                    13501 non-null  object \n",
            "dtypes: float64(1), object(81)\n",
            "memory usage: 8.4+ MB\n",
            "None\n"
          ]
        }
      ]
    },
    {
      "cell_type": "code",
      "source": [
        "# Crea df_cleaned como un DataFrame independiente\n",
        "df_cleaned = df_cleaned.copy()\n",
        "\n",
        "# Lista de columnas a conservar\n",
        "columns_to_keep = [\n",
        "    \"WhyStopped\", \"OutcomeAnalysisPValue\", \"ReferenceCitation\", \"ReferencePMID\"\n",
        "]\n",
        "\n",
        "# Añadir las columnas seleccionadas al df_cleaned\n",
        "for col in columns_to_keep:\n",
        "    df_cleaned[col] = df_original[col]"
      ],
      "metadata": {
        "id": "8Q-DB7PEZ-gT"
      },
      "execution_count": 27,
      "outputs": []
    },
    {
      "cell_type": "code",
      "source": [
        "# Seleccionar las primeras 5 líneas del DataFrame\n",
        "df_subset = df_cleaned.head(5)\n",
        "\n",
        "# Guardar el subset en un archivo CSV\n",
        "ruta_archivo = './muestras_ejemplo.csv'  # Ruta donde se guardará el archivo\n",
        "df_subset.to_csv(ruta_archivo, index=False)\n"
      ],
      "metadata": {
        "id": "2igrjbm7kdwD"
      },
      "execution_count": 28,
      "outputs": []
    },
    {
      "cell_type": "code",
      "source": [
        "# Lista de columnas a eliminar\n",
        "columns_to_remove = [\n",
        "    \"EnrollmentType\", \"LastUpdatePostDate\",\n",
        "    \"LastUpdatePostDateType\", \"LastUpdateSubmitDate\", \"LocationCity\",\n",
        "    \"LocationState\", \"LocationZip\", \"PrimaryCompletionDate\",\n",
        "    \"PrimaryCompletionDateType\", \"PrimaryOutcomeTimeFrame\",\n",
        "    \"SecondaryOutcomeTimeFrame\", \"StartDateType\", \"StatusVerifiedDate\",\n",
        "    \"StudyFirstPostDate\", \"StudyFirstPostDateType\", \"StudyFirstSubmitDate\",\n",
        "    \"StudyFirstSubmitQCDate\", \"VersionHolder\"\n",
        "]\n",
        "\n",
        "# Agregar columnas que comienzan con 'LastUpdate'\n",
        "columns_to_remove += [col for col in df_cleaned.columns if  col.startswith('LastUpdate')]\n",
        "\n",
        "# Eliminar estas columnas del DataFrame\n",
        "df_cleaned = df_cleaned.drop(columns=columns_to_remove)"
      ],
      "metadata": {
        "id": "4JEZwCEZTs56"
      },
      "execution_count": 29,
      "outputs": []
    },
    {
      "cell_type": "code",
      "source": [
        "df_cleaned.info()"
      ],
      "metadata": {
        "colab": {
          "base_uri": "https://localhost:8080/"
        },
        "id": "kOuaRJpZfvNv",
        "outputId": "75f16430-d024-4946-e1b2-6fd241785cb6"
      },
      "execution_count": 30,
      "outputs": [
        {
          "output_type": "stream",
          "name": "stdout",
          "text": [
            "<class 'pandas.core.frame.DataFrame'>\n",
            "RangeIndex: 13501 entries, 0 to 13500\n",
            "Data columns (total 68 columns):\n",
            " #   Column                           Non-Null Count  Dtype  \n",
            "---  ------                           --------------  -----  \n",
            " 0   ArmGroupDescription              10426 non-null  object \n",
            " 1   ArmGroupInterventionName         11067 non-null  object \n",
            " 2   ArmGroupLabel                    11662 non-null  object \n",
            " 3   ArmGroupType                     9759 non-null   object \n",
            " 4   BriefSummary                     13501 non-null  object \n",
            " 5   BriefTitle                       13501 non-null  object \n",
            " 6   CompletionDate                   12888 non-null  object \n",
            " 7   CompletionDateType               12764 non-null  object \n",
            " 8   Condition                        13500 non-null  object \n",
            " 9   ConditionAncestorId              12202 non-null  object \n",
            " 10  ConditionAncestorTerm            12202 non-null  object \n",
            " 11  ConditionBrowseBranchAbbrev      13253 non-null  object \n",
            " 12  ConditionBrowseBranchName        13253 non-null  object \n",
            " 13  ConditionBrowseLeafAsFound       12356 non-null  object \n",
            " 14  ConditionBrowseLeafId            13253 non-null  object \n",
            " 15  ConditionBrowseLeafName          13253 non-null  object \n",
            " 16  ConditionBrowseLeafRelevance     13253 non-null  object \n",
            " 17  ConditionMeshId                  12402 non-null  object \n",
            " 18  ConditionMeshTerm                12402 non-null  object \n",
            " 19  DesignInterventionModel          10188 non-null  object \n",
            " 20  DesignMasking                    10303 non-null  object \n",
            " 21  DesignPrimaryPurpose             10491 non-null  object \n",
            " 22  DetailedDescription              9398 non-null   object \n",
            " 23  EligibilityCriteria              13500 non-null  object \n",
            " 24  EnrollmentCount                  13279 non-null  float64\n",
            " 25  Gender                           13490 non-null  object \n",
            " 26  HasExpandedAccess                13289 non-null  object \n",
            " 27  HealthyVolunteers                13303 non-null  object \n",
            " 28  InterventionArmGroupLabel        11068 non-null  object \n",
            " 29  InterventionBrowseBranchAbbrev   7920 non-null   object \n",
            " 30  InterventionBrowseBranchName     7920 non-null   object \n",
            " 31  InterventionBrowseLeafId         7920 non-null   object \n",
            " 32  InterventionBrowseLeafName       7920 non-null   object \n",
            " 33  InterventionBrowseLeafRelevance  7920 non-null   object \n",
            " 34  InterventionDescription          10801 non-null  object \n",
            " 35  InterventionName                 12344 non-null  object \n",
            " 36  InterventionType                 12345 non-null  object \n",
            " 37  IsFDARegulatedDevice             6911 non-null   object \n",
            " 38  IsFDARegulatedDrug               6911 non-null   object \n",
            " 39  Keyword                          8878 non-null   object \n",
            " 40  LeadSponsorClass                 13501 non-null  object \n",
            " 41  LeadSponsorName                  13501 non-null  object \n",
            " 42  LocationCountry                  12369 non-null  object \n",
            " 43  LocationFacility                 12195 non-null  object \n",
            " 44  MinimumAge                       12719 non-null  object \n",
            " 45  NCTId                            13501 non-null  object \n",
            " 46  OfficialTitle                    13347 non-null  object \n",
            " 47  OrgClass                         13501 non-null  object \n",
            " 48  OrgFullName                      13501 non-null  object \n",
            " 49  OrgStudyId                       13501 non-null  object \n",
            " 50  OverallOfficialAffiliation       11082 non-null  object \n",
            " 51  OverallOfficialName              11105 non-null  object \n",
            " 52  OverallOfficialRole              11093 non-null  object \n",
            " 53  OverallStatus                    13501 non-null  object \n",
            " 54  OversightHasDMC                  10652 non-null  object \n",
            " 55  Phase                            10591 non-null  object \n",
            " 56  PrimaryOutcomeDescription        9942 non-null   object \n",
            " 57  PrimaryOutcomeMeasure            12938 non-null  object \n",
            " 58  ResponsiblePartyType             12404 non-null  object \n",
            " 59  SecondaryOutcomeDescription      7999 non-null   object \n",
            " 60  SecondaryOutcomeMeasure          10147 non-null  object \n",
            " 61  StartDate                        13422 non-null  object \n",
            " 62  StdAge                           13501 non-null  object \n",
            " 63  StudyType                        13501 non-null  object \n",
            " 64  WhyStopped                       1392 non-null   object \n",
            " 65  OutcomeAnalysisPValue            430 non-null    object \n",
            " 66  ReferenceCitation                4146 non-null   object \n",
            " 67  ReferencePMID                    4082 non-null   float64\n",
            "dtypes: float64(2), object(66)\n",
            "memory usage: 7.0+ MB\n"
          ]
        }
      ]
    },
    {
      "cell_type": "code",
      "source": [
        "# Convertir 'StartDate' a formato de fecha\n",
        "df_cleaned['StartDate'] = pd.to_datetime(df_cleaned['StartDate'], errors='coerce', format='%B %d, %Y')\n",
        "df_cleaned['Year'] = df_cleaned['StartDate'].dt.year\n",
        "# Crear una variable para indicar el año de comienzo\n",
        "df_cleaned['Year'] = df_cleaned['Year'].dropna().astype(int)"
      ],
      "metadata": {
        "id": "3Kf9lAtYgSRX"
      },
      "execution_count": 31,
      "outputs": []
    },
    {
      "cell_type": "code",
      "source": [
        "df_cleaned['OverallStatus'].dropna().unique()"
      ],
      "metadata": {
        "colab": {
          "base_uri": "https://localhost:8080/"
        },
        "id": "CHyNe_QNh26-",
        "outputId": "54aa1bd6-6edf-4ab3-96d5-ac3812d88953"
      },
      "execution_count": 32,
      "outputs": [
        {
          "output_type": "execute_result",
          "data": {
            "text/plain": [
              "array(['Recruiting', 'Unknown status', 'Not yet recruiting', 'Completed',\n",
              "       'Active, not recruiting', 'Terminated', 'Withdrawn',\n",
              "       'Enrolling by invitation', 'Suspended',\n",
              "       'Temporarily not available', 'Available', 'Approved for marketing',\n",
              "       'No longer available'], dtype=object)"
            ]
          },
          "metadata": {},
          "execution_count": 32
        }
      ]
    },
    {
      "cell_type": "code",
      "source": [
        "# Crear la nueva columna 'SuccessfulCases'\n",
        "# 'Successful' se asigna cuando 'OverallStatus' es 'completed', lo que indica que el estudio se completó según lo planeado.\n",
        "# 'Unsuccessful' se asigna cuando 'OverallStatus' es 'suspended', 'withdrawn', o 'terminated', lo que indica que el estudio no se completó como estaba previsto.\n",
        "# Otros estados de 'OverallStatus' se manejan según se necesite, aquí se asigna 'Other' como categoría general para esos casos.\n",
        "df_cleaned['SuccessfulCases'] = np.where(\n",
        "    df_cleaned['OverallStatus'] == 'Completed', 'Successful',\n",
        "    np.where(\n",
        "        df_cleaned['OverallStatus'].isin(['Suspended', 'Withdrawn', 'Terminated']),\n",
        "        'Unsuccessful',\n",
        "        'Other'\n",
        "    )\n",
        ")"
      ],
      "metadata": {
        "id": "pkuQWKolSQzA"
      },
      "execution_count": 33,
      "outputs": []
    },
    {
      "cell_type": "code",
      "source": [
        "df_cleaned['OutcomeAnalysisPValue'] = df_cleaned['OutcomeAnalysisPValue'].replace(to_replace=r'[^\\d.]+', value='', regex=True)\n",
        "df_cleaned['OutcomeAnalysisPValue'] = pd.to_numeric(df_cleaned['OutcomeAnalysisPValue'], errors='coerce')\n",
        "\n",
        "# Crear la nueva columna 'Significative'\n",
        "# Se asigna 'Significant' si 'OutcomeAnalysisPValue' es menor que 0.05\n",
        "# Se asigna 'Non significant' si 'OutcomeAnalysisPValue' es mayor o igual a 0.05\n",
        "# Se asigna 'Unknown' si 'OutcomeAnalysisPValue' es NaN\n",
        "df_cleaned['Significance'] = np.where(\n",
        "    df_cleaned['OutcomeAnalysisPValue'].isna(), 'Unknown',\n",
        "    np.where(df_cleaned['OutcomeAnalysisPValue'] < 0.05, 'Significant', 'Non significant')\n",
        ")"
      ],
      "metadata": {
        "id": "87aVGZYxUaSV"
      },
      "execution_count": 38,
      "outputs": []
    },
    {
      "cell_type": "code",
      "source": [
        "from google.colab import files\n",
        "# Especifica el path del CSV\n",
        "ruta_archivo = './clinicaltrials_limpio.csv'\n",
        "\n",
        "# Guardar el DataFrame como CSV\n",
        "df_cleaned.to_csv(ruta_archivo, index=False, header=True)\n",
        "files.download('clinicaltrials_limpio.csv')"
      ],
      "metadata": {
        "colab": {
          "base_uri": "https://localhost:8080/",
          "height": 17
        },
        "id": "guLS82u1MrXp",
        "outputId": "c6b2f815-36f1-43a1-c836-28b8e677a997"
      },
      "execution_count": 41,
      "outputs": [
        {
          "output_type": "display_data",
          "data": {
            "text/plain": [
              "<IPython.core.display.Javascript object>"
            ],
            "application/javascript": [
              "\n",
              "    async function download(id, filename, size) {\n",
              "      if (!google.colab.kernel.accessAllowed) {\n",
              "        return;\n",
              "      }\n",
              "      const div = document.createElement('div');\n",
              "      const label = document.createElement('label');\n",
              "      label.textContent = `Downloading \"${filename}\": `;\n",
              "      div.appendChild(label);\n",
              "      const progress = document.createElement('progress');\n",
              "      progress.max = size;\n",
              "      div.appendChild(progress);\n",
              "      document.body.appendChild(div);\n",
              "\n",
              "      const buffers = [];\n",
              "      let downloaded = 0;\n",
              "\n",
              "      const channel = await google.colab.kernel.comms.open(id);\n",
              "      // Send a message to notify the kernel that we're ready.\n",
              "      channel.send({})\n",
              "\n",
              "      for await (const message of channel.messages) {\n",
              "        // Send a message to notify the kernel that we're ready.\n",
              "        channel.send({})\n",
              "        if (message.buffers) {\n",
              "          for (const buffer of message.buffers) {\n",
              "            buffers.push(buffer);\n",
              "            downloaded += buffer.byteLength;\n",
              "            progress.value = downloaded;\n",
              "          }\n",
              "        }\n",
              "      }\n",
              "      const blob = new Blob(buffers, {type: 'application/binary'});\n",
              "      const a = document.createElement('a');\n",
              "      a.href = window.URL.createObjectURL(blob);\n",
              "      a.download = filename;\n",
              "      div.appendChild(a);\n",
              "      a.click();\n",
              "      div.remove();\n",
              "    }\n",
              "  "
            ]
          },
          "metadata": {}
        },
        {
          "output_type": "display_data",
          "data": {
            "text/plain": [
              "<IPython.core.display.Javascript object>"
            ],
            "application/javascript": [
              "download(\"download_aa54ba7f-5b47-489f-9f08-678cb7e9c5ac\", \"clinicaltrials_limpio.csv\", 76510929)"
            ]
          },
          "metadata": {}
        }
      ]
    },
    {
      "cell_type": "code",
      "source": [
        "print(df_cleaned.info())"
      ],
      "metadata": {
        "colab": {
          "base_uri": "https://localhost:8080/"
        },
        "id": "M20F7s-7hpp0",
        "outputId": "e4591123-87b4-40ba-cffc-fd3a2e81574b"
      },
      "execution_count": 42,
      "outputs": [
        {
          "output_type": "stream",
          "name": "stdout",
          "text": [
            "<class 'pandas.core.frame.DataFrame'>\n",
            "RangeIndex: 13501 entries, 0 to 13500\n",
            "Data columns (total 71 columns):\n",
            " #   Column                           Non-Null Count  Dtype         \n",
            "---  ------                           --------------  -----         \n",
            " 0   ArmGroupDescription              10426 non-null  object        \n",
            " 1   ArmGroupInterventionName         11067 non-null  object        \n",
            " 2   ArmGroupLabel                    11662 non-null  object        \n",
            " 3   ArmGroupType                     9759 non-null   object        \n",
            " 4   BriefSummary                     13501 non-null  object        \n",
            " 5   BriefTitle                       13501 non-null  object        \n",
            " 6   CompletionDate                   12888 non-null  object        \n",
            " 7   CompletionDateType               12764 non-null  object        \n",
            " 8   Condition                        13500 non-null  object        \n",
            " 9   ConditionAncestorId              12202 non-null  object        \n",
            " 10  ConditionAncestorTerm            12202 non-null  object        \n",
            " 11  ConditionBrowseBranchAbbrev      13253 non-null  object        \n",
            " 12  ConditionBrowseBranchName        13253 non-null  object        \n",
            " 13  ConditionBrowseLeafAsFound       12356 non-null  object        \n",
            " 14  ConditionBrowseLeafId            13253 non-null  object        \n",
            " 15  ConditionBrowseLeafName          13253 non-null  object        \n",
            " 16  ConditionBrowseLeafRelevance     13253 non-null  object        \n",
            " 17  ConditionMeshId                  12402 non-null  object        \n",
            " 18  ConditionMeshTerm                12402 non-null  object        \n",
            " 19  DesignInterventionModel          10188 non-null  object        \n",
            " 20  DesignMasking                    10303 non-null  object        \n",
            " 21  DesignPrimaryPurpose             10491 non-null  object        \n",
            " 22  DetailedDescription              9398 non-null   object        \n",
            " 23  EligibilityCriteria              13500 non-null  object        \n",
            " 24  EnrollmentCount                  13279 non-null  float64       \n",
            " 25  Gender                           13490 non-null  object        \n",
            " 26  HasExpandedAccess                13289 non-null  object        \n",
            " 27  HealthyVolunteers                13303 non-null  object        \n",
            " 28  InterventionArmGroupLabel        11068 non-null  object        \n",
            " 29  InterventionBrowseBranchAbbrev   7920 non-null   object        \n",
            " 30  InterventionBrowseBranchName     7920 non-null   object        \n",
            " 31  InterventionBrowseLeafId         7920 non-null   object        \n",
            " 32  InterventionBrowseLeafName       7920 non-null   object        \n",
            " 33  InterventionBrowseLeafRelevance  7920 non-null   object        \n",
            " 34  InterventionDescription          10801 non-null  object        \n",
            " 35  InterventionName                 12344 non-null  object        \n",
            " 36  InterventionType                 12345 non-null  object        \n",
            " 37  IsFDARegulatedDevice             6911 non-null   object        \n",
            " 38  IsFDARegulatedDrug               6911 non-null   object        \n",
            " 39  Keyword                          8878 non-null   object        \n",
            " 40  LeadSponsorClass                 13501 non-null  object        \n",
            " 41  LeadSponsorName                  13501 non-null  object        \n",
            " 42  LocationCountry                  12369 non-null  object        \n",
            " 43  LocationFacility                 12195 non-null  object        \n",
            " 44  MinimumAge                       12719 non-null  object        \n",
            " 45  NCTId                            13501 non-null  object        \n",
            " 46  OfficialTitle                    13347 non-null  object        \n",
            " 47  OrgClass                         13501 non-null  object        \n",
            " 48  OrgFullName                      13501 non-null  object        \n",
            " 49  OrgStudyId                       13501 non-null  object        \n",
            " 50  OverallOfficialAffiliation       11082 non-null  object        \n",
            " 51  OverallOfficialName              11105 non-null  object        \n",
            " 52  OverallOfficialRole              11093 non-null  object        \n",
            " 53  OverallStatus                    13501 non-null  object        \n",
            " 54  OversightHasDMC                  10652 non-null  object        \n",
            " 55  Phase                            10591 non-null  object        \n",
            " 56  PrimaryOutcomeDescription        9942 non-null   object        \n",
            " 57  PrimaryOutcomeMeasure            12938 non-null  object        \n",
            " 58  ResponsiblePartyType             12404 non-null  object        \n",
            " 59  SecondaryOutcomeDescription      7999 non-null   object        \n",
            " 60  SecondaryOutcomeMeasure          10147 non-null  object        \n",
            " 61  StartDate                        7311 non-null   datetime64[ns]\n",
            " 62  StdAge                           13501 non-null  object        \n",
            " 63  StudyType                        13501 non-null  object        \n",
            " 64  WhyStopped                       1392 non-null   object        \n",
            " 65  OutcomeAnalysisPValue            430 non-null    float64       \n",
            " 66  ReferenceCitation                4146 non-null   object        \n",
            " 67  ReferencePMID                    4082 non-null   float64       \n",
            " 68  Year                             7311 non-null   float64       \n",
            " 69  SuccessfulCases                  13501 non-null  object        \n",
            " 70  Significance                     13501 non-null  object        \n",
            "dtypes: datetime64[ns](1), float64(4), object(66)\n",
            "memory usage: 7.3+ MB\n",
            "None\n"
          ]
        }
      ]
    }
  ],
  "metadata": {
    "colab": {
      "provenance": []
    },
    "kernelspec": {
      "display_name": "Python 3",
      "name": "python3"
    },
    "language_info": {
      "name": "python"
    }
  },
  "nbformat": 4,
  "nbformat_minor": 0
}